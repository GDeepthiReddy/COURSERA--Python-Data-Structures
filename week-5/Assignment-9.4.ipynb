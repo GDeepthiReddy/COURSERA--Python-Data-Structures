{
 "cells": [
  {
   "cell_type": "markdown",
   "metadata": {},
   "source": [
    "#### Q-9.4 Write a program to read through the mbox-short.txt and figure out who has the sent the greatest number of mail messages. The program looks for 'From ' lines and takes the second word of those lines as the person who sent the mail.\n",
    "        The program creates a Python dictionary that maps the sender's mail address to a count of the number of times they appear in the file. \n",
    "    After the dictionary is produced, the program reads through the dictionary using a maximum loop to find the most prolific committer."
   ]
  },
  {
   "cell_type": "code",
   "execution_count": null,
   "metadata": {},
   "outputs": [],
   "source": [
    "# code :\n",
    "\n",
    "name = input(\"Enter file:\")\n",
    "if len(name) < 1 : name = \"mbox-short.txt\"\n",
    "handle = open(name)\n",
    "count = 0\n",
    "d = dict()\n",
    "for line in handle:    \n",
    "    if not line.startswith('From'):continue    \n",
    "    line = line.split()    \n",
    "    if line[0] == 'From':        \n",
    "        line1 =  line[1]       \n",
    "        for word in line1.split():            \n",
    "            if word not in d:                \n",
    "                d[word] = 1\n",
    "            else:\n",
    "                d[word]+=1        \n",
    "        count = count + 1        \n",
    "maximum = None\n",
    "k = None\n",
    "for key,value in d.items():    \n",
    "    if maximum is None or value>maximum:\n",
    "        maximum = value\n",
    "        k=key\n",
    "print(k,maximum)"
   ]
  },
  {
   "cell_type": "code",
   "execution_count": null,
   "metadata": {},
   "outputs": [],
   "source": []
  }
 ],
 "metadata": {
  "kernelspec": {
   "display_name": "Python 3",
   "language": "python",
   "name": "python3"
  },
  "language_info": {
   "codemirror_mode": {
    "name": "ipython",
    "version": 3
   },
   "file_extension": ".py",
   "mimetype": "text/x-python",
   "name": "python",
   "nbconvert_exporter": "python",
   "pygments_lexer": "ipython3",
   "version": "3.7.7"
  }
 },
 "nbformat": 4,
 "nbformat_minor": 4
}
