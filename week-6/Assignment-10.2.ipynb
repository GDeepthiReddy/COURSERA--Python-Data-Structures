{
 "cells": [
  {
   "cell_type": "markdown",
   "metadata": {},
   "source": [
    "#### Q-10.2 : Write a program to read through the mbox-short.txt and figure out the distribution by hour of the day for each of the messages. You can pull the hour out from the 'From ' line by finding the time and then splitting the string a second time using a colon.\n",
    "      From stephen.marquard@uct.ac.za Sat Jan  5 09:14:16 2008\n",
    "Once you have accumulated the counts for each hour, print out the counts, sorted by hour as shown below."
   ]
  },
  {
   "cell_type": "code",
   "execution_count": null,
   "metadata": {},
   "outputs": [],
   "source": [
    "name = raw_input(\"Enter file:\")\n",
    "if len(name) < 1 : name = \"mbox-short.txt\"\n",
    "handle = open(name)\n",
    "d=dict()\n",
    "count = 0\n",
    "for line in handle:\n",
    "    \n",
    "    if not line.startswith('From'):continue\n",
    "        \n",
    "    line=line.split()\n",
    "    \n",
    "    if line[0]=='From':\n",
    "        \n",
    "        line =  line[5].split(':')\n",
    "        \n",
    "        for hrs in line[0].split():\n",
    "            \n",
    "            if hrs not in d:\n",
    "                \n",
    "                d[hrs]=1\n",
    "            else:\n",
    "                d[hrs]+=1\n",
    "                \n",
    "for key,value in sorted(d.items()):\n",
    "    print key,value"
   ]
  }
 ],
 "metadata": {
  "kernelspec": {
   "display_name": "Python 3",
   "language": "python",
   "name": "python3"
  },
  "language_info": {
   "codemirror_mode": {
    "name": "ipython",
    "version": 3
   },
   "file_extension": ".py",
   "mimetype": "text/x-python",
   "name": "python",
   "nbconvert_exporter": "python",
   "pygments_lexer": "ipython3",
   "version": "3.7.7"
  }
 },
 "nbformat": 4,
 "nbformat_minor": 4
}
